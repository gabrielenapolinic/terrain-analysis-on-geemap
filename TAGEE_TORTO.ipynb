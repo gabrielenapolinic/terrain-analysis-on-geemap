{
 "cells": [
  {
   "cell_type": "code",
   "execution_count": 1,
   "id": "b92143e9-46e9-4e14-a059-bf294f62d1f6",
   "metadata": {},
   "outputs": [],
   "source": [
    "import ee\n",
    "ee.Initialize()\n",
    "\n",
    "# Safanelli, J.L.; Poppiel, R.R.; Ruiz, L.F.C.; Bonfatti, B.R.; Mello, F.A.O.; Rizzo, R.; Demattê, J.A.M. Terrain Analysis in Google Earth Engine: \n",
    "# A Method Adapted for High-Performance Global-Scale Analysis. ISPRS Int. J. Geo-Inf. 2020, 9, 400. DOI: https://doi.org/10.3390/ijgi9060400\n",
    "from tagee import terrainAnalysis\n",
    "\n",
    "# Set up a smoothed DEM\n",
    "# Apply a Gaussian filter to smooth the SRTM DEM. The filter reduces noise and prepares the DEM for terrain analysis.\n",
    "gaussianFilter = ee.Kernel.gaussian(\n",
    "    radius=3, sigma=2, units='pixels', normalize=True\n",
    ")\n",
    "srtmSmooth = ee.Image(\"USGS/SRTMGL1_003\").convolve(gaussianFilter).resample(\"bilinear\")\n",
    "\n",
    "# Load the FeatureCollection\n",
    "# This collection contains the features (e.g., polygons or points) where the terrain metrics will be calculated.\n",
    "feature_collection_path = 'path_to_your_feature_collection'\n",
    "SU2 = ee.FeatureCollection(feature_collection_path)\n",
    "\n",
    "# Calculate terrain metrics\n",
    "# Compute multiple terrain metrics (elevation, slope, aspect, curvature, etc.) using the smoothed DEM.\n",
    "terrainMetrics = terrainAnalysis(srtmSmooth)\n",
    "\n",
    "# Combine reducers to get mean and standard deviation\n",
    "# Define a reducer that calculates both the mean and standard deviation of the terrain metrics.\n",
    "reducer = ee.Reducer.mean().combine(\n",
    "    reducer2=ee.Reducer.stdDev(), sharedInputs=True\n",
    ")\n",
    "\n",
    "# Rename parameters with abbreviated names\n",
    "# Rename the terrain metric bands to use shorter names for easier handling.\n",
    "abbreviated_metrics = terrainMetrics.select([\n",
    "    'Elevation', 'Slope', 'Aspect', 'Hillshade',\n",
    "    'Northness', 'Eastness', 'HorizontalCurvature',\n",
    "    'VerticalCurvature', 'MeanCurvature', 'MinimalCurvature',\n",
    "    'MaximalCurvature', 'GaussianCurvature', 'ShapeIndex'\n",
    "], [\n",
    "    'El', 'S', 'As', 'Hill', 'Nor', 'Eas', 'HCv', 'VCv',\n",
    "    'MeCur', 'MinCur', 'MaxCur', 'Gauss', 'Sh'\n",
    "])\n",
    "\n",
    "# Summarize the metrics within each feature in SU2\n",
    "# Use the defined reducer to calculate mean and standard deviation of the terrain metrics for each feature in the FeatureCollection.\n",
    "reduction = abbreviated_metrics.reduceRegions(\n",
    "    collection=SU2,\n",
    "    reducer=reducer\n",
    ")\n"
   ]
  },
  {
   "cell_type": "code",
   "execution_count": 2,
   "id": "d20c5345-6026-41ae-ac2f-212e8ac7fa26",
   "metadata": {},
   "outputs": [
    {
     "name": "stdout",
     "output_type": "stream",
     "text": [
      "Generating URL ...\n",
      "Downloading data from https://earthengine.googleapis.com/v1/projects/ee-nebrodipark/tables/75348c0735536f8be264fe62cc391809-b4d1294fe3b58a1c788174e06b0b927a:getFeatures\n",
      "Please wait ...\n",
      "An error occurred while downloading. \n",
      " Retrying ...\n",
      "Generating URL ...\n",
      "Downloading data from https://earthengine.googleapis.com/v1/projects/ee-nebrodipark/tables/a2408c7569a771795df269d829ee5325-e797ec7d7dbb8b1e245b77ecda6bd805:getFeatures\n",
      "Please wait ...\n",
      "Data downloaded to C:\\Users\\gabri\\OneDrive\\Desktop\\Torto_TAGEE_PROVA.geojson\n",
      "Features have been exported to C:\\Users\\gabri\\OneDrive\\Desktop\\Torto_TAGEE_PROVA.geojson\n"
     ]
    }
   ],
   "source": [
    "# Export the results as a GeoJSON to Google Drive\n",
    "# Replace 'your_folder_name' with the desired folder name in Google Drive.\n",
    "task = ee.batch.Export.table.toDrive(\n",
    "    collection=reduction,\n",
    "    description='Torto_TAGEE',\n",
    "    fileFormat='GeoJSON',\n",
    "    folder='your_folder_name'\n",
    ")\n",
    "\n",
    "# Start the export task\n",
    "# The task is initiated and will process in the background. Check Google Drive for the exported file.\n",
    "task.start()\n",
    "\n",
    "print(\"Export started. Check your Google Drive for the file.\")"
   ]
  },
  {
   "cell_type": "code",
   "execution_count": null,
   "id": "d020a93e-71d1-4ad4-a530-19845065002a",
   "metadata": {},
   "outputs": [],
   "source": [
    "# Optional: Cancel running tasks\n",
    "# This block of code can cancel any active or pending tasks in GEE.\n",
    "# Uncomment and run if necessary.\n",
    "# import ee\n",
    "# ee.Initialize()\n",
    "# tasks = ee.batch.Task.list()\n",
    "\n",
    "# for task in tasks:\n",
    "#     if task.status()['state'] in ['RUNNING', 'READY']:\n",
    "#         task.cancel()\n",
    "#         print(f\"Task {task.id} has been cancelled.\")"
   ]
  },
  {
   "cell_type": "code",
   "execution_count": 3,
   "id": "6d3641ce-9919-4510-ae54-be2f63bf0b88",
   "metadata": {},
   "outputs": [],
   "source": [
    "# Optional: Convert GeoJSON to Shapefile\n",
    "# Use geopandas to convert the exported GeoJSON file to a Shapefile for compatibility with other GIS software.\n",
    "# import geopandas as gpd\n",
    "\n",
    "# gdf = gpd.read_file('path_to_your_geojson_file.geojson')\n",
    "# gdf.to_file('path_to_your_shapefile.shp')"
   ]
  }
 ],
 "metadata": {
  "kernelspec": {
   "display_name": "Python 3 (ipykernel)",
   "language": "python",
   "name": "python3"
  },
  "language_info": {
   "codemirror_mode": {
    "name": "ipython",
    "version": 3
   },
   "file_extension": ".py",
   "mimetype": "text/x-python",
   "name": "python",
   "nbconvert_exporter": "python",
   "pygments_lexer": "ipython3",
   "version": "3.12.2"
  }
 },
 "nbformat": 4,
 "nbformat_minor": 5
}
